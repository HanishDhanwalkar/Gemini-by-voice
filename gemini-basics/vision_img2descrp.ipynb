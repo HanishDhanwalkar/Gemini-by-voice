{
 "cells": [
  {
   "cell_type": "code",
   "execution_count": 1,
   "metadata": {},
   "outputs": [],
   "source": [
    "import google.generativeai as genai\n",
    "import os\n",
    "from dotenv import load_dotenv\n",
    "\n"
   ]
  },
  {
   "cell_type": "code",
   "execution_count": 2,
   "metadata": {},
   "outputs": [],
   "source": [
    "load_dotenv()  # Load environment variables from the `.env` file \n",
    "\n",
    "api_key = os.getenv(\"API_KEY\") # replace with your API_KEY\n",
    "genai.configure(api_key= api_key)"
   ]
  },
  {
   "cell_type": "code",
   "execution_count": 3,
   "metadata": {},
   "outputs": [],
   "source": [
    "model = genai.GenerativeModel('gemini-pro-vision')\n"
   ]
  },
  {
   "cell_type": "code",
   "execution_count": 4,
   "metadata": {},
   "outputs": [],
   "source": [
    "prompt = \"\"\"\n",
    "Describe the given picture first based on what you see.\n",
    "Then create a short story based on your understanding of the picture.\n",
    "\n",
    "Output should have both the description and the short story as two separate items \n",
    "with relevant headings\n",
    "\"\"\""
   ]
  },
  {
   "cell_type": "code",
   "execution_count": 6,
   "metadata": {},
   "outputs": [
    {
     "name": "stdout",
     "output_type": "stream",
     "text": [
      " **Description:** \n",
      "The picture shows an orange cat sitting on a computer desk. The cat has one paw on the keyboard and is reaching with the other paw to touch the computer screen. The cat is looking at the screen intently.\n",
      "\n",
      "**Short Story:**\n",
      "Mittens was a very curious cat. She loved to explore her surroundings and was always getting into trouble. One day, Mittens was exploring the computer desk when she saw a strange new object. It was a computer mouse. Mittens had never seen anything like it before and was determined to figure out what it was.\n",
      "\n",
      "Mittens started by batting at the mouse with her paw. The mouse moved around, but Mittens couldn't figure out how to make it do anything else. She then tried to climb up on the computer desk to get a closer look. But the desk was too high, and Mittens couldn't reach the mouse.\n",
      "\n",
      "Mittens was about to give up when she saw a piece of string hanging from the mouse. She reached up and pulled on the string. The mouse started to move, and Mittens was finally able to figure out how to use it.\n",
      "\n",
      "Mittens was so excited that she started to play with the mouse all day long. She chased the cursor around the screen and clicked on all the different buttons. She even found a few games to play.\n",
      "\n",
      "Mittens had so much fun with the mouse that she forgot all about the other things she was supposed to be doing. She didn't eat her food, and she didn't take a nap. She just kept playing with the mouse.\n",
      "\n",
      "Finally, Mittens' owner came home and found her still playing with the mouse. The owner was very angry and told Mittens to get off the computer. Mittens was very sad, but she knew that she had been bad. She slunk off to her bed and took a long nap.\n",
      "\n",
      "The next day, Mittens woke up and decided to be a good cat. She ate her food, took a nap, and played with her toys. She didn't even think about the computer mouse.\n",
      "\n",
      "Mittens' owner was so happy that she was being a good cat. He decided to give her a treat. Mittens was so happy that she purred and rubbed against her owner's leg.\n",
      "\n",
      "Mittens learned her lesson that day. She learned that it's important to listen to her owner and that there are other things to do besides play with the computer mouse. But most importantly, she learned that she is a very loved cat.\n"
     ]
    }
   ],
   "source": [
    "import PIL.Image\n",
    "\n",
    "img = PIL.Image.open('data\\imgs\\cat_pc.jpeg')\n",
    "\n",
    "response = model.generate_content(contents=[prompt, img])\n",
    "\n",
    "# print(response)\n",
    "\n",
    "print(response.text)"
   ]
  },
  {
   "cell_type": "code",
   "execution_count": 7,
   "metadata": {},
   "outputs": [
    {
     "ename": "NameError",
     "evalue": "name 'to_markdown' is not defined",
     "output_type": "error",
     "traceback": [
      "\u001b[1;31m---------------------------------------------------------------------------\u001b[0m",
      "\u001b[1;31mNameError\u001b[0m                                 Traceback (most recent call last)",
      "Cell \u001b[1;32mIn[7], line 1\u001b[0m\n\u001b[1;32m----> 1\u001b[0m to_markdown(response\u001b[38;5;241m.\u001b[39mtext)\n",
      "\u001b[1;31mNameError\u001b[0m: name 'to_markdown' is not defined"
     ]
    }
   ],
   "source": [
    "to_markdown(response.text)"
   ]
  },
  {
   "cell_type": "code",
   "execution_count": null,
   "metadata": {},
   "outputs": [],
   "source": []
  }
 ],
 "metadata": {
  "kernelspec": {
   "display_name": "base",
   "language": "python",
   "name": "python3"
  },
  "language_info": {
   "codemirror_mode": {
    "name": "ipython",
    "version": 3
   },
   "file_extension": ".py",
   "mimetype": "text/x-python",
   "name": "python",
   "nbconvert_exporter": "python",
   "pygments_lexer": "ipython3",
   "version": "3.11.7"
  }
 },
 "nbformat": 4,
 "nbformat_minor": 2
}
